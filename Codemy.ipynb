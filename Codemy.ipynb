{
  "nbformat": 4,
  "nbformat_minor": 0,
  "metadata": {
    "colab": {
      "provenance": [],
      "authorship_tag": "ABX9TyMmexoTP2nktSvRln3nFPWQ",
      "include_colab_link": true
    },
    "kernelspec": {
      "name": "python3",
      "display_name": "Python 3"
    },
    "language_info": {
      "name": "python"
    }
  },
  "cells": [
    {
      "cell_type": "markdown",
      "metadata": {
        "id": "view-in-github",
        "colab_type": "text"
      },
      "source": [
        "<a href=\"https://colab.research.google.com/github/dmgSoft1/ML_Projects/blob/main/Codemy.ipynb\" target=\"_parent\"><img src=\"https://colab.research.google.com/assets/colab-badge.svg\" alt=\"Open In Colab\"/></a>"
      ]
    },
    {
      "cell_type": "code",
      "execution_count": 42,
      "metadata": {
        "colab": {
          "base_uri": "https://localhost:8080/"
        },
        "id": "mEJtPWyWKUps",
        "outputId": "5b919acf-e422-4351-cf33-13ea4ee174b3"
      },
      "outputs": [
        {
          "output_type": "stream",
          "name": "stdout",
          "text": [
            "[1 2 3 4 5 6 7 8 9]\n",
            "[ 0.84147098  0.90929743  0.14112001 -0.7568025  -0.95892427 -0.2794155\n",
            "  0.6569866   0.98935825  0.41211849]\n"
          ]
        }
      ],
      "source": [
        "#NUMPY FOR MACHINE LEARNING 1\n",
        "import numpy as np\n",
        "list = [1,2,3,4,5]\n",
        "list2 = [\"Damags\", 26, True]\n",
        "\n",
        "np1 = np.array([1,2,3,4,5,6,7,8,9])\n",
        "\n",
        "#print(np1)\n",
        "np1.shape\n",
        "\n",
        "np2 = np.arange(10)\n",
        "np2\n",
        "\n",
        "np3 = np.arange(0, 100, 5)\n",
        "np3\n",
        "\n",
        "np4 = np.zeros(10)\n",
        "np4\n",
        "\n",
        "np5 = np.ones(10)\n",
        "np5\n",
        "\n",
        "np6 = np.full_like((5,5), 5)\n",
        "np6\n",
        "\n",
        "np7 = np.array(list)\n",
        "\n",
        "#NUMPY FOR MACHINE LEARNING 2\n",
        "#---Slicing Arrays---\n",
        "#print(np1[1:5])\n",
        "\n",
        "#print(np1[3:])\n",
        "\n",
        "#print(np1[-4:-1])\n",
        "\n",
        "#print(np1[1:5:2])\n",
        "\n",
        "#print(np1[::3])\n",
        "\n",
        "np8 = np.array([[1,2,3,4,5],\n",
        "                [6,7,8,9,10]])\n",
        "\n",
        "#print(np8[0:2,1:3])\n",
        "\n",
        "#NUMPY - MACHINE LEARNING 3\n",
        "#--Numpy Universal Functions\n",
        "print(np1)\n",
        "\n",
        "#SqureRoot of Each element\n",
        "#print(np.sqrt(np1))\n",
        "np9 = [-4,-3,-2,-1]\n",
        "#print(np.abs(np9))\n",
        "#print(np.exp(np1))\n",
        "#print(np.max(np1))\n",
        "#print(np.min(np1))\n",
        "#print(np.sign(np1))\n",
        "print(np.sin(np1))"
      ]
    }
  ]
}